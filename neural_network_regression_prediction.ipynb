{
 "cells": [
  {
   "cell_type": "code",
   "execution_count": null,
   "id": "738d9b35-4aff-4bf3-873f-7bd84d6a8f8e",
   "metadata": {},
   "outputs": [],
   "source": [
    "# Importing necessary libraries for the task\n",
    "import pandas as pd\n",
    "import numpy as np\n",
    "import matplotlib.pyplot as plt\n",
    "import seaborn as sns\n",
    "from sklearn.model_selection import train_test_split\n",
    "from sklearn.preprocessing import StandardScaler\n",
    "from sklearn.metrics import mean_squared_error, r2_score\n",
    "import tensorflow as tf\n",
    "from tensorflow.keras.models import Sequential\n",
    "from tensorflow.keras.layers import Dense\n"
   ]
  },
  {
   "cell_type": "code",
   "execution_count": null,
   "id": "af1c9b75-7c0e-40ac-a650-17b9bcc171ca",
   "metadata": {},
   "outputs": [],
   "source": [
    "# Load the dataset\n",
    "df = pd.read_csv('data.csv')\n",
    "\n",
    "# Check for missing values\n",
    "print(df.isnull().sum())\n",
    "\n",
    "# Fill missing values with mean or other imputation methods if necessary\n",
    "df.fillna(df.mean(), inplace=True)\n",
    "\n",
    "# Select relevant columns for the prediction task (e.g., targeting PM2.5)\n",
    "X = df.drop(columns=['pm2_5', 'date'])  # Drop non-numeric columns if needed\n",
    "y = df['pm2_5']  # Target column (e.g., PM2.5)\n",
    "\n",
    "# Convert categorical columns to numeric using one-hot encoding if necessary\n",
    "X = pd.get_dummies(X)\n",
    "\n",
    "# Split data into training and testing sets (80% training, 20% testing)\n",
    "X_train, X_test, y_train, y_test = train_test_split(X, y, test_size=0.2, random_state=42)\n",
    "\n",
    "# Standardize the features (important for neural networks)\n",
    "scaler = StandardScaler()\n",
    "X_train = scaler.fit_transform(X_train)\n",
    "X_test = scaler.transform(X_test)\n",
    "\n",
    "print(\"Data Preprocessing Complete!\")"
   ]
  },
  {
   "cell_type": "code",
   "execution_count": null,
   "id": "d9f649b5-cab5-40a3-a6e1-0a5456df7c7b",
   "metadata": {},
   "outputs": [],
   "source": [
    "# Build a neural network model\n",
    "model = Sequential()\n",
    "\n",
    "# Add layers (input layer + hidden layers)\n",
    "model.add(Dense(64, activation='relu', input_dim=X_train.shape[1]))  # Input layer\n",
    "model.add(Dense(64, activation='relu'))  # Hidden layer\n",
    "model.add(Dense(1))  # Output layer (regression)\n",
    "\n",
    "# Compile the model\n",
    "model.compile(optimizer='adam', loss='mean_squared_error')\n",
    "\n",
    "print(\"Model Built and Compiled!\")"
   ]
  },
  {
   "cell_type": "code",
   "execution_count": null,
   "id": "d168f265-cf84-4b84-bce1-f59e9c3eedbd",
   "metadata": {},
   "outputs": [],
   "source": [
    "# Train the model on the training data\n",
    "history = model.fit(X_train, y_train, epochs=50, batch_size=32, validation_split=0.2, verbose=1)\n",
    "\n",
    "print(\"Model Training Complete!\")"
   ]
  },
  {
   "cell_type": "code",
   "execution_count": null,
   "id": "7bb60bf4-7003-4964-adbb-8c79e3be16b8",
   "metadata": {},
   "outputs": [],
   "source": [
    "# Evaluate the model on the test set\n",
    "y_pred = model.predict(X_test)\n",
    "\n",
    "# Compute evaluation metrics\n",
    "mse = mean_squared_error(y_test, y_pred)\n",
    "r2 = r2_score(y_test, y_pred)\n",
    "\n",
    "print(f\"Mean Squared Error: {mse}\")\n",
    "print(f\"R-squared: {r2}\")"
   ]
  },
  {
   "cell_type": "code",
   "execution_count": null,
   "id": "344b4e1e-7a97-44ec-abdc-f2a27a5975f2",
   "metadata": {},
   "outputs": [],
   "source": [
    "# Plot loss over epochs to see training progress\n",
    "plt.plot(history.history['loss'], label='Training Loss')\n",
    "plt.plot(history.history['val_loss'], label='Validation Loss')\n",
    "plt.title('Training and Validation Loss Over Epochs')\n",
    "plt.xlabel('Epochs')\n",
    "plt.ylabel('Loss')\n",
    "plt.legend()\n",
    "plt.show()\n",
    "\n",
    "# Plot actual vs predicted values\n",
    "plt.scatter(y_test, y_pred)\n",
    "plt.plot([y_test.min(), y_test.max()], [y_test.min(), y_test.max()], 'k--', lw=2)\n",
    "plt.title('Actual vs Predicted PM2.5')\n",
    "plt.xlabel('Actual')\n",
    "plt.ylabel('Predicted')\n",
    "plt.show()"
   ]
  }
 ],
 "metadata": {
  "kernelspec": {
   "display_name": "Python 3 (ipykernel)",
   "language": "python",
   "name": "python3"
  },
  "language_info": {
   "codemirror_mode": {
    "name": "ipython",
    "version": 3
   },
   "file_extension": ".py",
   "mimetype": "text/x-python",
   "name": "python",
   "nbconvert_exporter": "python",
   "pygments_lexer": "ipython3",
   "version": "3.9.18"
  }
 },
 "nbformat": 4,
 "nbformat_minor": 5
}
